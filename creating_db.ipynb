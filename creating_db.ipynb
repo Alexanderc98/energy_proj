{
 "cells": [
  {
   "cell_type": "code",
   "execution_count": 1,
   "metadata": {},
   "outputs": [],
   "source": [
    "import pandas as pd\n",
    "import sqlite3"
   ]
  },
  {
   "cell_type": "code",
   "execution_count": 2,
   "metadata": {},
   "outputs": [],
   "source": [
    "electricity_costs_table = pd.read_excel( #Reading in all the different sheets into different dataframes\n",
    "    'excel_cleaning.xlsx', \n",
    "    sheet_name='electricity_costs_table',\n",
    "    header=0)\n",
    "\n",
    "building_table = pd.read_excel(\n",
    "    'excel_cleaning.xlsx', \n",
    "    sheet_name='building_table',\n",
    "    header=0)\n",
    "\n",
    "adress_table = pd.read_excel(\n",
    "    'excel_cleaning.xlsx', \n",
    "    sheet_name='adress_table',\n",
    "    header=0)\n",
    "\n",
    "area_name_table = pd.read_excel(\n",
    "    'excel_cleaning.xlsx', \n",
    "    sheet_name='area_name_table',\n",
    "    header=0)"
   ]
  },
  {
   "cell_type": "code",
   "execution_count": 3,
   "metadata": {},
   "outputs": [],
   "source": [
    "# Creating the database and pointing to it\n",
    "db_conn = sqlite3.connect(\"database.db\")"
   ]
  },
  {
   "cell_type": "code",
   "execution_count": 4,
   "metadata": {},
   "outputs": [],
   "source": [
    "# Establishing a cursor object, it's a tool that executes SQL code against the database of interest.\n",
    "c = db_conn.cursor() "
   ]
  },
  {
   "cell_type": "code",
   "execution_count": 5,
   "metadata": {},
   "outputs": [
    {
     "data": {
      "text/plain": [
       "<sqlite3.Cursor at 0x22284307650>"
      ]
     },
     "execution_count": 5,
     "metadata": {},
     "output_type": "execute_result"
    }
   ],
   "source": [
    "# Creating all the tables i want for my database, they will still be empty though.\n",
    "\n",
    "# electricity_costs_table\n",
    "c.execute(\n",
    "    \"\"\"\n",
    "    CREATE TABLE electricity_costs_table (\n",
    "        electricity_bill_id INTEGER,\n",
    "        date DATE,\n",
    "        electricity_costs_usd INTEGER,\n",
    "        building_name TEXT NOT NULL,\n",
    "        PRIMARY KEY(electricity_bill_id),\n",
    "        FOREIGN KEY(building_name) REFERENCES building_table(building_name)\n",
    "        );\n",
    "     \"\"\"\n",
    ")\n",
    "\n",
    "# building_table\n",
    "c.execute(\n",
    "    \"\"\"\n",
    "    CREATE TABLE building_table (\n",
    "        building_name TEXT NOT NULL,\n",
    "        adress TEXT NOT NULL,\n",
    "        area_name TEXT NOT NULL,        \n",
    "        PRIMARY KEY(building_name),\n",
    "        FOREIGN KEY(adress) REFERENCES adress_table(adress),\n",
    "        FOREIGN KEY(area_name) REFERENCES area_name_table(area_name)\n",
    "        );\n",
    "     \"\"\"\n",
    ")\n",
    "\n",
    "# adress_table\n",
    "c.execute(\n",
    "    \"\"\"\n",
    "    CREATE TABLE adress_table (\n",
    "        adress TEXT NOT NULL,\n",
    "        postcode INTEGER,\n",
    "        latitude FLOAT,\n",
    "        longitude FLOAT,        \n",
    "        PRIMARY KEY(adress)\n",
    "        );\n",
    "     \"\"\"\n",
    ")\n",
    "\n",
    "# area_name_table\n",
    "c.execute(\n",
    "    \"\"\"\n",
    "    CREATE TABLE area_name_table (\n",
    "        area_name TEXT NOT NULL,\n",
    "        borough TEXT NOT NULL,\n",
    "        PRIMARY KEY(area_name)\n",
    "        );\n",
    "     \"\"\"\n",
    ")"
   ]
  },
  {
   "cell_type": "code",
   "execution_count": 6,
   "metadata": {},
   "outputs": [],
   "source": [
    "#Transfering the data from each of the four data frames into the appropriate tables in the database\n",
    "\n",
    "electricity_costs_table.to_sql('electricity_costs_table', db_conn, if_exists='append', index=False)\n",
    "building_table.to_sql('building_table', db_conn, if_exists='append', index=False)\n",
    "adress_table.to_sql('adress_table', db_conn, if_exists='append', index=False)\n",
    "area_name_table.to_sql('area_name_table', db_conn, if_exists='append', index=False)"
   ]
  }
 ],
 "metadata": {
  "interpreter": {
   "hash": "cbc2632199ecbffe8e30de3c73742e8a6199992cbb2fea27c385f3cbcc777c77"
  },
  "kernelspec": {
   "display_name": "Python 3.7.9 64-bit",
   "language": "python",
   "name": "python3"
  },
  "language_info": {
   "codemirror_mode": {
    "name": "ipython",
    "version": 3
   },
   "file_extension": ".py",
   "mimetype": "text/x-python",
   "name": "python",
   "nbconvert_exporter": "python",
   "pygments_lexer": "ipython3",
   "version": "3.7.9"
  },
  "orig_nbformat": 4
 },
 "nbformat": 4,
 "nbformat_minor": 2
}
